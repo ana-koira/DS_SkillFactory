{
 "cells": [
  {
   "cell_type": "code",
   "execution_count": 1,
   "metadata": {},
   "outputs": [
    {
     "name": "stdout",
     "output_type": "stream",
     "text": [
      "Ваш алгоритм угадывает число в среднем за 5 попыток\n"
     ]
    },
    {
     "data": {
      "text/plain": [
       "5"
      ]
     },
     "execution_count": 1,
     "metadata": {},
     "output_type": "execute_result"
    }
   ],
   "source": [
    "import numpy as np\n",
    "\n",
    "\n",
    "def game_core_v3(number):\n",
    "    '''Находим среднее значение интервала поиска и сравниваем его с загаданным числом.\n",
    "    Потом сужаем интервал в зависимости от того, больше или меньше его среднее значение, чем искомое число.\n",
    "    Если больше - среднее значение, уменьшенное на единицу, становится верхней границей интервала для поиска,\n",
    "    если меньше - среднее значение, увеличенное на единицу, становится нижней границей.\n",
    "    Функция принимает загаданное число и возвращает число попыток.'''\n",
    "    count = 0 # счетчик попыток\n",
    "    start = 1 # нижняя граница интервала\n",
    "    end = 100 # верхняя граница интервала\n",
    "\n",
    "    while True:\n",
    "        count+=1\n",
    "        predict = int((start+end) / 2) # предполагаемое число\n",
    "        if number > predict: \n",
    "            start = predict + 1\n",
    "        elif number < predict: \n",
    "            end = predict - 1\n",
    "        elif number == predict: \n",
    "            return(count) # выход из цикла, если угадали\n",
    "\n",
    "        \n",
    "def score_game(game_core):\n",
    "    '''Запускаем игру 1000 раз, чтобы узнать, как быстро игра угадывает число'''\n",
    "    count_ls = []\n",
    "    np.random.seed(1)  # фиксируем RANDOM SEED, чтобы эксперимент был воспроизводим!\n",
    "    random_array = np.random.randint(1,101, size=(1000))\n",
    "    for number in random_array:\n",
    "        count_ls.append(game_core(number))\n",
    "    score = int(np.mean(count_ls))\n",
    "    print(f\"Ваш алгоритм угадывает число в среднем за {score} попыток\")\n",
    "    \n",
    "    return(score)\n",
    "\n",
    "\n",
    "score_game(game_core_v3) # запускаем игру"
   ]
  },
  {
   "cell_type": "code",
   "execution_count": null,
   "metadata": {},
   "outputs": [],
   "source": []
  }
 ],
 "metadata": {
  "kernelspec": {
   "display_name": "Python 3",
   "language": "python",
   "name": "python3"
  },
  "language_info": {
   "codemirror_mode": {
    "name": "ipython",
    "version": 3
   },
   "file_extension": ".py",
   "mimetype": "text/x-python",
   "name": "python",
   "nbconvert_exporter": "python",
   "pygments_lexer": "ipython3",
   "version": "3.7.6"
  }
 },
 "nbformat": 4,
 "nbformat_minor": 4
}
